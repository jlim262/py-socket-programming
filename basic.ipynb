{
 "cells": [
  {
   "cell_type": "code",
   "execution_count": 1,
   "source": [
    "import socket"
   ],
   "outputs": [],
   "metadata": {}
  },
  {
   "cell_type": "code",
   "execution_count": 2,
   "source": [
    "host_name = socket.gethostname()\n",
    "print(host_name)"
   ],
   "outputs": [
    {
     "output_type": "stream",
     "name": "stdout",
     "text": [
      "JongYoonui-iMac.local\n"
     ]
    }
   ],
   "metadata": {}
  },
  {
   "cell_type": "code",
   "execution_count": 3,
   "source": [
    "# get ip address of local machine\n",
    "ip_address = socket.gethostbyname(host_name)\n",
    "print(ip_address)"
   ],
   "outputs": [
    {
     "output_type": "stream",
     "name": "stdout",
     "text": [
      "127.0.0.1\n"
     ]
    }
   ],
   "metadata": {}
  },
  {
   "cell_type": "code",
   "execution_count": 4,
   "source": [
    "# get ip address of a remote machine\n",
    "remote_ip = socket.gethostbyname('www.google.com')\n",
    "print(remote_ip)"
   ],
   "outputs": [
    {
     "output_type": "stream",
     "name": "stdout",
     "text": [
      "142.250.204.4\n"
     ]
    }
   ],
   "metadata": {}
  },
  {
   "cell_type": "code",
   "execution_count": 5,
   "source": [
    "# converting IPv4 address to different formats\n",
    "packed_ip = socket.inet_aton(ip_address)\n",
    "print(packed_ip)"
   ],
   "outputs": [
    {
     "output_type": "stream",
     "name": "stdout",
     "text": [
      "b'\\x7f\\x00\\x00\\x01'\n"
     ]
    }
   ],
   "metadata": {}
  },
  {
   "cell_type": "code",
   "execution_count": 7,
   "source": [
    "unpacked_ip = socket.inet_ntoa(packed_ip)\n",
    "print(unpacked_ip)"
   ],
   "outputs": [
    {
     "output_type": "stream",
     "name": "stdout",
     "text": [
      "127.0.0.1\n"
     ]
    }
   ],
   "metadata": {}
  },
  {
   "cell_type": "code",
   "execution_count": 9,
   "source": [
    "# finding a service name using port and protocol\n",
    "print(socket.getservbyport(80, 'tcp'))"
   ],
   "outputs": [
    {
     "output_type": "stream",
     "name": "stdout",
     "text": [
      "http\n"
     ]
    }
   ],
   "metadata": {}
  },
  {
   "cell_type": "code",
   "execution_count": 11,
   "source": [
    "print(socket.getservbyport(25, 'tcp'))"
   ],
   "outputs": [
    {
     "output_type": "stream",
     "name": "stdout",
     "text": [
      "smtp\n"
     ]
    }
   ],
   "metadata": {}
  },
  {
   "cell_type": "code",
   "execution_count": 12,
   "source": [
    "print(socket.getservbyport(53, 'tcp'))"
   ],
   "outputs": [
    {
     "output_type": "stream",
     "name": "stdout",
     "text": [
      "domain\n"
     ]
    }
   ],
   "metadata": {}
  },
  {
   "cell_type": "code",
   "execution_count": 14,
   "source": [
    "# socket timeout\n",
    "s = socket.socket(socket.AF_INET, socket.SOCK_STREAM)\n",
    "print(f'default timeout: {s.gettimeout()}')\n",
    "s.settimeout(1000)\n",
    "print(f'current timeout: {s.gettimeout()}')"
   ],
   "outputs": [
    {
     "output_type": "stream",
     "name": "stdout",
     "text": [
      "default timeout: None\n",
      "current timeout: 1000.0\n"
     ]
    }
   ],
   "metadata": {}
  },
  {
   "cell_type": "code",
   "execution_count": 18,
   "source": [
    "# socket.error exceptions\n",
    "\n",
    "try:\n",
    "  s = socket.socket(socket.AF_INET, socket.SOCK_STREAM)\n",
    "except socket.error as e:\n",
    "  print(f'Error creating socket: {e}')\n"
   ],
   "outputs": [],
   "metadata": {}
  },
  {
   "cell_type": "code",
   "execution_count": 19,
   "source": [
    "host = 'www.googlexxx.com'\n",
    "port = 80\n",
    "\n",
    "try:\n",
    "  s = socket.socket(socket.AF_INET, socket.SOCK_STREAM)\n",
    "except socket.error as e:\n",
    "  print(f'Error creating socket: {e}')\n",
    "\n",
    "try:\n",
    "  s.connect((host, port))\n",
    "except socket.gaierror as e:\n",
    "  print(f'error connecting to {host}:{port}')\n",
    "except socket.error as e:\n",
    "  print(f'Connection error: {e}')\n"
   ],
   "outputs": [
    {
     "output_type": "stream",
     "name": "stdout",
     "text": [
      "error connecting to www.googlexxx.com:80\n"
     ]
    }
   ],
   "metadata": {}
  },
  {
   "cell_type": "code",
   "execution_count": 24,
   "source": [
    "try:\n",
    "  s = socket.socket(socket.AF_INET, socket.SOCK_STREAM)\n",
    "except socket.error as e:\n",
    "  print(f'Error creating socket: {e}')\n",
    "\n",
    "host = 'www.python.org'\n",
    "port = 80\n",
    "\n",
    "try:\n",
    "  s.connect((host, port))\n",
    "except socket.gaierror as e:\n",
    "  print(f'error connecting to {host}:{port}')\n",
    "except socket.error as e:\n",
    "  print(f'Connection error: {e}')\n",
    "\n",
    "filename = 'index.html'\n",
    "try:\n",
    "  msg = f\"GET {filename} HTTP/1.0\\r\\n\\r\\n\"\n",
    "  s.sendall(msg.encode('utf-8'))\n",
    "except socket.error as e:\n",
    "  print(f\"Error sending data: {e}\")\n",
    "\n",
    "while 1:\n",
    "\n",
    "  try:\n",
    "    buf = s.recv(2048)\n",
    "  except socket.error as e:\n",
    "    print(\"Error receiving data: %s\" % e)\n",
    "  if not len(buf):\n",
    "    break\n",
    "  # write the received data\n",
    "  print(buf.decode('utf-8'))\n"
   ],
   "outputs": [
    {
     "output_type": "stream",
     "name": "stdout",
     "text": [
      "HTTP/1.1 500 Domain Not Found\n",
      "Server: Varnish\n",
      "Retry-After: 0\n",
      "content-type: text/html\n",
      "Cache-Control: private, no-cache\n",
      "X-Served-By: cache-akl10327-AKL\n",
      "Content-Length: 221\n",
      "Accept-Ranges: bytes\n",
      "Date: Sun, 26 Sep 2021 10:46:19 GMT\n",
      "Via: 1.1 varnish\n",
      "Connection: close\n",
      "\n",
      "\n",
      "<html>\n",
      "<head>\n",
      "<title>Fastly error: unknown domain </title>\n",
      "</head>\n",
      "<body>\n",
      "<p>Fastly error: unknown domain: . Please check that this domain has been added to a service.</p>\n",
      "<p>Details: cache-akl10327-AKL</p></body></html>\n"
     ]
    }
   ],
   "metadata": {}
  },
  {
   "cell_type": "code",
   "execution_count": 27,
   "source": [
    "# modify buffer size\n",
    "SEND_BUF_SIZE = 4096\n",
    "RECV_BUF_SIZE = 4096\n",
    "\n",
    "s = socket.socket(socket.AF_INET, socket.SOCK_STREAM)\n",
    "# Get the size of the socket's send buffer\n",
    "bufsize = s.getsockopt(socket.SOL_SOCKET, socket.SO_SNDBUF)\n",
    "print(f\"Buffer size [Before]: {bufsize}\")\n",
    "s.setsockopt(socket.SOL_TCP,\n",
    "                socket.TCP_NODELAY, 1)\n",
    "s.setsockopt(\n",
    "    socket.SOL_SOCKET,\n",
    "    socket.SO_SNDBUF,\n",
    "    SEND_BUF_SIZE)\n",
    "s.setsockopt(\n",
    "    socket.SOL_SOCKET,\n",
    "    socket.SO_RCVBUF,\n",
    "    RECV_BUF_SIZE)\n",
    "bufsize = s.getsockopt(socket.SOL_SOCKET, socket.SO_SNDBUF)\n",
    "print(f\"Buffer size [After]: {bufsize}\")"
   ],
   "outputs": [
    {
     "output_type": "stream",
     "name": "stdout",
     "text": [
      "Buffer size [Before]: 131072\n",
      "Buffer size [After]: 4096\n"
     ]
    }
   ],
   "metadata": {}
  },
  {
   "cell_type": "code",
   "execution_count": 30,
   "source": [
    "# change socket mode(blocking/non-blocking)\n",
    "'''\n",
    "By default, TCP sockets are placed in a blocking mode. This means the control is not\n",
    "returned to your program until some specific operation is complete. If you call the\n",
    "connect() API, the connection blocks your program until the operation is complete. On\n",
    "many occasions, you don't want to keep your program waiting forever, either for a response\n",
    "from the server or for any error to stop the operation. For example, when you write a web\n",
    "browser client that connects to a web server, you should consider a stop functionality that\n",
    "can cancel the connection process in the middle of this operation. This can be achieved by\n",
    "placing the socket in the non-blocking mode.\n",
    "'''\n",
    "# blocking mode enabled\n",
    "s = socket.socket(socket.AF_INET,\n",
    "                  socket.SOCK_STREAM)\n",
    "s.setblocking(1)\n",
    "s.settimeout(0.5)\n",
    "s.bind((\"127.0.0.1\", 0))\n",
    "socket_address = s.getsockname()\n",
    "print(f\"Trivial Server launched on socket: {str(socket_address)}\")\n",
    "while(1):\n",
    "  s.listen(1)\n"
   ],
   "outputs": [
    {
     "output_type": "stream",
     "name": "stdout",
     "text": [
      "Trivial Server launched on socket: ('127.0.0.1', 57425)\n"
     ]
    },
    {
     "output_type": "error",
     "ename": "KeyboardInterrupt",
     "evalue": "",
     "traceback": [
      "\u001b[0;31m---------------------------------------------------------------------------\u001b[0m",
      "\u001b[0;31mKeyboardInterrupt\u001b[0m                         Traceback (most recent call last)",
      "\u001b[0;32m/var/folders/t7/ndgjc0f97jvd0wnh6n15jl940000gn/T/ipykernel_69943/655933648.py\u001b[0m in \u001b[0;36m<module>\u001b[0;34m\u001b[0m\n\u001b[1;32m     19\u001b[0m \u001b[0mprint\u001b[0m\u001b[0;34m(\u001b[0m\u001b[0;34mf\"Trivial Server launched on socket: {str(socket_address)}\"\u001b[0m\u001b[0;34m)\u001b[0m\u001b[0;34m\u001b[0m\u001b[0;34m\u001b[0m\u001b[0m\n\u001b[1;32m     20\u001b[0m \u001b[0;32mwhile\u001b[0m\u001b[0;34m(\u001b[0m\u001b[0;36m1\u001b[0m\u001b[0;34m)\u001b[0m\u001b[0;34m:\u001b[0m\u001b[0;34m\u001b[0m\u001b[0;34m\u001b[0m\u001b[0m\n\u001b[0;32m---> 21\u001b[0;31m   \u001b[0ms\u001b[0m\u001b[0;34m.\u001b[0m\u001b[0mlisten\u001b[0m\u001b[0;34m(\u001b[0m\u001b[0;36m1\u001b[0m\u001b[0;34m)\u001b[0m\u001b[0;34m\u001b[0m\u001b[0;34m\u001b[0m\u001b[0m\n\u001b[0m",
      "\u001b[0;31mKeyboardInterrupt\u001b[0m: "
     ]
    }
   ],
   "metadata": {}
  },
  {
   "cell_type": "code",
   "execution_count": null,
   "source": [],
   "outputs": [],
   "metadata": {}
  }
 ],
 "metadata": {
  "orig_nbformat": 4,
  "language_info": {
   "name": "python",
   "version": "3.8.3",
   "mimetype": "text/x-python",
   "codemirror_mode": {
    "name": "ipython",
    "version": 3
   },
   "pygments_lexer": "ipython3",
   "nbconvert_exporter": "python",
   "file_extension": ".py"
  },
  "kernelspec": {
   "name": "python3",
   "display_name": "Python 3.8.3 64-bit"
  },
  "interpreter": {
   "hash": "aee8b7b246df8f9039afb4144a1f6fd8d2ca17a180786b69acc140d282b71a49"
  }
 },
 "nbformat": 4,
 "nbformat_minor": 2
}